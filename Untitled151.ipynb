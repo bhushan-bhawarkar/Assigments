{
  "nbformat": 4,
  "nbformat_minor": 0,
  "metadata": {
    "colab": {
      "provenance": []
    },
    "kernelspec": {
      "name": "python3",
      "display_name": "Python 3"
    },
    "language_info": {
      "name": "python"
    }
  },
  "cells": [
    {
      "cell_type": "markdown",
      "source": [
        "1. Scenario: A company wants to analyze the sales performance of its products in different regions. They have collected the following data:\n",
        "   Region A: [10, 15, 12, 8, 14]\n",
        "   Region B: [18, 20, 16, 22, 25]\n",
        "   Calculate the mean sales for each region.\n"
      ],
      "metadata": {
        "id": "n11Tdq6EeGrb"
      }
    },
    {
      "cell_type": "markdown",
      "source": [
        "For Region A: Sales data: [10, 15, 12, 8, 14]\n",
        "\n",
        "Mean sales for Region A = (10 + 15 + 12 + 8 + 14) / 5 = 59 / 5 = 11.8\n",
        "\n",
        "The mean sales for Region A is 11.8.\n",
        "\n",
        "For Region B: Sales data: [18, 20, 16, 22, 25]\n",
        "\n",
        "Mean sales for Region B = (18 + 20 + 16 + 22 + 25) / 5 = 101 / 5 = 20.2\n",
        "\n",
        "The mean sales for Region B is 20.2.\n",
        "\n",
        "So, the mean sales for Region A is 11.8 and for Region B is 20.2."
      ],
      "metadata": {
        "id": "eY--m9TxeLzy"
      }
    },
    {
      "cell_type": "markdown",
      "source": [
        "2. Scenario: A survey is conducted to measure customer satisfaction on a scale of 1 to 5. The data collected is as follows:\n",
        "   [4, 5, 2, 3, 5, 4, 3, 2, 4, 5]\n",
        "   Calculate the mode of the survey responses.\n"
      ],
      "metadata": {
        "id": "rcE_ykvdeA3l"
      }
    },
    {
      "cell_type": "markdown",
      "source": [
        "To calculate the mode of the survey responses, you need to identify the value or values that appear most frequently in the data. In this case, the survey responses are: [4, 5, 2, 3, 5, 4, 3, 2, 4, 5].\n",
        "\n",
        "Counting the occurrences of each value, we have:\n",
        "\n",
        "2 appears 2 times\n",
        "3 appears 2 times\n",
        "4 appears 3 times\n",
        "5 appears 3 times\n",
        "Since both 4 and 5 appear the most frequently (3 times each), the mode of the survey responses is 4 and 5.\n",
        "\n",
        "Therefore, the mode of the survey responses is 4 and 5."
      ],
      "metadata": {
        "id": "kI76kw0wezMH"
      }
    },
    {
      "cell_type": "markdown",
      "source": [
        "3. Scenario: A company wants to compare the salaries of two departments. The salary data for Department A and Department B are as follows:\n",
        "   Department A: [5000, 6000, 5500, 7000]\n",
        "   Department B: [4500, 5500, 5800, 6000, 5200]\n",
        "   Calculate the median salary for each department.\n"
      ],
      "metadata": {
        "id": "OTkyOH6fe5cv"
      }
    },
    {
      "cell_type": "markdown",
      "source": [
        "To calculate the median salary for each department, you need to find the middle value of the sorted salary data. Here's how you can calculate the median salary for Department A and Department B:\n",
        "\n",
        "For Department A:\n",
        "\n",
        "Sort the salaries in ascending order: [5000, 5500, 6000, 7000]\n",
        "Since the number of salaries is even (4), find the average of the two middle values:\n",
        "The middle values are 5500 and 6000.\n",
        "Add them together: 5500 + 6000 = 11500\n",
        "Divide the sum by 2: 11500 / 2 = 5750\n",
        "The median salary for Department A is $5750.\n",
        "\n",
        "For Department B:\n",
        "\n",
        "Sort the salaries in ascending order: [4500, 5200, 5500, 5800, 6000]\n",
        "Since the number of salaries is odd (5), the median is the middle value:\n",
        "The middle value is 5500.\n",
        "The median salary for Department B is $5500.\n",
        "\n",
        "Therefore, the median salaries for Department A and Department B are $5750 and $5500, respectively."
      ],
      "metadata": {
        "id": "hCMWDlw-e_Pq"
      }
    },
    {
      "cell_type": "markdown",
      "source": [
        "4. Scenario: A data analyst wants to determine the variability in the daily stock prices of a company. The data collected is as follows:\n",
        "   [25.5, 24.8, 26.1, 25.3, 24.9]\n",
        "   Calculate the range of the stock prices.\n"
      ],
      "metadata": {
        "id": "Lk1qoYiUlBVF"
      }
    },
    {
      "cell_type": "markdown",
      "source": [
        "To calculate the range of the stock prices, you need to find the difference between the highest and lowest values in the dataset. Here's how you can calculate the range:\n",
        "\n",
        "Find the highest value in the dataset: 26.1\n",
        "Find the lowest value in the dataset: 24.8\n",
        "Calculate the range by subtracting the lowest value from the highest value:\n",
        "Range = 26.1 - 24.8 = 1.3\n",
        "The range of the stock prices is 1.3.\n",
        "\n",
        "\n"
      ],
      "metadata": {
        "id": "wy1phOBglimc"
      }
    },
    {
      "cell_type": "markdown",
      "source": [
        "5. Scenario: A study is conducted to compare the performance of two different teaching methods. The test scores of the students in each group are as follows:\n",
        "   Group A: [85, 90, 92, 88, 91]\n",
        "   Group B: [82, 88, 90, 86, 87]\n",
        "   Perform a t-test to determine if there is a significant difference in the mean scores between the two groups.\n"
      ],
      "metadata": {
        "id": "AHcujZshli0S"
      }
    },
    {
      "cell_type": "markdown",
      "source": [
        "To perform a t-test and determine if there is a significant difference in the mean scores between Group A and Group B, you can follow these steps:\n",
        "\n",
        "Step 1: Define the null hypothesis (H0) and the alternative hypothesis (Ha):\n",
        "\n",
        "Null hypothesis (H0): There is no significant difference in the mean scores between Group A and Group B.\n",
        "Alternative hypothesis (Ha): There is a significant difference in the mean scores between Group A and Group B.\n",
        "Step 2: Calculate the means of the two groups:\n",
        "\n",
        "Group A mean: (85 + 90 + 92 + 88 + 91) / 5 = 88.4\n",
        "Group B mean: (82 + 88 + 90 + 86 + 87) / 5 = 86.6\n",
        "Step 3: Calculate the variances of the two groups:\n",
        "\n",
        "Group A variance: [(85 - 88.4)^2 + (90 - 88.4)^2 + (92 - 88.4)^2 + (88 - 88.4)^2 + (91 - 88.4)^2] / 4 = 5.3\n",
        "Group B variance: [(82 - 86.6)^2 + (88 - 86.6)^2 + (90 - 86.6)^2 + (86 - 86.6)^2 + (87 - 86.6)^2] / 4 = 4.3\n",
        "Step 4: Calculate the pooled standard deviation:\n",
        "\n",
        "Pooled standard deviation: sqrt[((n1-1)*s1^2 + (n2-1)*s2^2) / (n1 + n2 - 2)]\n",
        "= sqrt[((5-1)5.3 + (5-1)4.3) / (5 + 5 - 2)]\n",
        "= sqrt[(45.3 + 44.3) / 8]\n",
        "= sqrt[(21.2 + 17.2) / 8]\n",
        "= sqrt[38.4 / 8]\n",
        "= sqrt(4.8)\n",
        "= 2.19\n",
        "Step 5: Calculate the t-statistic:\n",
        "\n",
        "t-statistic: (mean1 - mean2) / (pooled standard deviation * sqrt(1/n1 + 1/n2))\n",
        "= (88.4 - 86.6) / (2.19 * sqrt(1/5 + 1/5))\n",
        "= 1.8 / (2.19 * sqrt(0.2 + 0.2))\n",
        "= 1.8 / (2.19 * sqrt(0.4))\n",
        "= 1.8 / (2.19 * 0.63)\n",
        "= 1.8 / 1.38\n",
        "= 1.30\n",
        "Step 6: Determine the critical value and degrees of freedom:\n",
        "\n",
        "The critical value for a two-tailed t-test with a significance level of α = 0.05 and degrees of freedom (df) = n1 + n2 - 2 = 5 + 5 - 2 = 8 is approximately ±2.31.\n",
        "Step 7: Compare the t-statistic with the critical value:\n",
        "\n",
        "Since 1.30 falls within the range of -2.31 to 2.31, it does not exceed the critical value.\n",
        "Therefore, we fail to reject the null hypothesis.\n",
        "Conclusion: Based on the t-test, there is no significant difference in the mean scores between Group A and Group B at a significance level of α = 0.05."
      ],
      "metadata": {
        "id": "F184OiUcl08z"
      }
    },
    {
      "cell_type": "markdown",
      "source": [
        "6. Scenario: A company wants to analyze the relationship between advertising expenditure and sales. The data collected is as follows:\n",
        "   Advertising Expenditure (in thousands): [10, 15, 12, 8, 14]\n",
        "   Sales (in thousands): [25, 30, 28, 20, 26]\n",
        "   Calculate the correlation coefficient between advertising expenditure and sales.\n"
      ],
      "metadata": {
        "id": "qcP3vk-ll1La"
      }
    },
    {
      "cell_type": "markdown",
      "source": [
        "To calculate the correlation coefficient between advertising expenditure and sales, you can use the Pearson correlation coefficient formula. Here's how you can calculate it:\n",
        "\n",
        "Step 1: Calculate the means of the advertising expenditure and sales:\n",
        "\n",
        "Advertising Expenditure mean: (10 + 15 + 12 + 8 + 14) / 5 = 11.8\n",
        "Sales mean: (25 + 30 + 28 + 20 + 26) / 5 = 25.8\n",
        "Step 2: Calculate the deviations from the means for both variables:\n",
        "\n",
        "Deviations from the Advertising Expenditure mean: [10 - 11.8, 15 - 11.8, 12 - 11.8, 8 - 11.8, 14 - 11.8] = [-1.8, 3.2, 0.2, -3.8, 2.2]\n",
        "Deviations from the Sales mean: [25 - 25.8, 30 - 25.8, 28 - 25.8, 20 - 25.8, 26 - 25.8] = [-0.8, 4.2, 2.2, -5.8, 0.2]\n",
        "Step 3: Calculate the product of the deviations for each pair of data points:\n",
        "\n",
        "Product of deviations: [-1.8 * -0.8, 3.2 * 4.2, 0.2 * 2.2, -3.8 * -5.8, 2.2 * 0.2] = [1.44, 13.44, 0.44, 22.04, 0.44]\n",
        "Step 4: Calculate the sum of the product of deviations:\n",
        "\n",
        "Sum of the product of deviations: 1.44 + 13.44 + 0.44 + 22.04 + 0.44 = 37.8\n",
        "Step 5: Calculate the standard deviation for advertising expenditure and sales:\n",
        "\n",
        "Standard deviation of Advertising Expenditure: sqrt([(10 - 11.8)^2 + (15 - 11.8)^2 + (12 - 11.8)^2 + (8 - 11.8)^2 + (14 - 11.8)^2] / 4) = sqrt([3.24 + 8.84 + 0.04 + 14.44 + 4.84] / 4) = sqrt(31.4 / 4) = sqrt(7.85) = 2.8\n",
        "Standard deviation of Sales: sqrt([(25 - 25.8)^2 + (30 - 25.8)^2 + (28 - 25.8)^2 + (20 - 25.8)^2 + (26 - 25.8)^2] / 4) = sqrt([0.64 + 17.64 + 4.84 + 33.64 + 0.04] / 4) = sqrt(57.8 / 4) = sqrt(14.45) = 3.8\n",
        "Step 6: Calculate the correlation coefficient:\n",
        "\n",
        "Correlation coefficient: (Sum of the product of deviations) / (Standard deviation of Advertising Expenditure * Standard deviation of Sales) = 37.8 / (2.8 * 3.8) = 37.8 / 10.64 = 3.55\n",
        "The correlation coefficient between advertising expenditure and sales is approximately 3.55."
      ],
      "metadata": {
        "id": "fOh1NVlhmJoL"
      }
    },
    {
      "cell_type": "markdown",
      "source": [
        "7. Scenario: A survey is conducted to measure the heights of a group of people. The data collected is as follows:\n",
        "   [160, 170, 165, 155, 175, 180, 170]\n",
        "   Calculate the standard deviation of the heights.\n"
      ],
      "metadata": {
        "id": "sQ-65udEmN7A"
      }
    },
    {
      "cell_type": "markdown",
      "source": [
        "To calculate the standard deviation of the heights, you can follow these steps:\n",
        "\n",
        "Step 1: Calculate the mean of the heights:\n",
        "\n",
        "Mean = (160 + 170 + 165 + 155 + 175 + 180 + 170) / 7 = 1175 / 7 = 167.857\n",
        "Step 2: Calculate the deviations from the mean for each height:\n",
        "\n",
        "Deviations = [160 - 167.857, 170 - 167.857, 165 - 167.857, 155 - 167.857, 175 - 167.857, 180 - 167.857, 170 - 167.857] = [-7.857, 2.143, -2.857, -12.857, 7.143, 12.143, 2.143]\n",
        "Step 3: Square each deviation:\n",
        "\n",
        "Squared deviations = [(-7.857)^2, (2.143)^2, (-2.857)^2, (-12.857)^2, (7.143)^2, (12.143)^2, (2.143)^2] = [61.614, 4.592, 8.163, 165.306, 51.061, 147.959, 4.592]\n",
        "Step 4: Calculate the sum of the squared deviations:\n",
        "\n",
        "Sum of squared deviations = 61.614 + 4.592 + 8.163 + 165.306 + 51.061 + 147.959 + 4.592 = 443.287\n",
        "Step 5: Calculate the variance:\n",
        "\n",
        "Variance = Sum of squared deviations / (number of data points - 1) = 443.287 / (7 - 1) = 443.287 / 6 = 73.881\n",
        "Step 6: Calculate the standard deviation:\n",
        "\n",
        "Standard deviation = square root of variance = sqrt(73.881) = 8.601\n",
        "The standard deviation of the heights is approximately 8.601."
      ],
      "metadata": {
        "id": "XxNlVNVHmT1h"
      }
    },
    {
      "cell_type": "markdown",
      "source": [
        "8. Scenario: A company wants to analyze the relationship between employee tenure and job satisfaction. The data collected is as follows:"
      ],
      "metadata": {
        "id": "ClW6xFQDmWkR"
      }
    },
    {
      "cell_type": "markdown",
      "source": [
        "To perform a linear regression analysis and predict job satisfaction based on employee tenure, you can follow these steps:\n",
        "\n",
        "Step 1: Define the variables:\n",
        "\n",
        "Independent variable (X): Employee Tenure\n",
        "Dependent variable (Y): Job Satisfaction\n",
        "Step 2: Calculate the means of the variables:\n",
        "\n",
        "Mean of Employee Tenure: (2 + 3 + 5 + 4 + 6 + 2 + 4) / 7 = 4\n",
        "Mean of Job Satisfaction: (7 + 8 + 6 + 9 + 5 + 7 + 6) / 7 = 7\n",
        "Step 3: Calculate the deviations from the means for both variables:\n",
        "\n",
        "Deviations from the Employee Tenure mean: [2 - 4, 3 - 4, 5 - 4, 4 - 4, 6 - 4, 2 - 4, 4 - 4] = [-2, -1, 1, 0, 2, -2, 0]\n",
        "Deviations from the Job Satisfaction mean: [7 - 7, 8 - 7, 6 - 7, 9 - 7, 5 - 7, 7 - 7, 6 - 7] = [0, 1, -1, 2, -2, 0, -1]\n",
        "Step 4: Calculate the product of the deviations for each pair of data points:\n",
        "\n",
        "Product of deviations: [-2 * 0, -1 * 1, 1 * -1, 0 * 2, 2 * -2, -2 * 0, 0 * -1] = [0, -1, -1, 0, -4, 0, 0]\n",
        "Step 5: Calculate the squared deviations of the independent variable:\n",
        "\n",
        "Squared deviations of Employee Tenure: [(-2)^2, (-1)^2, 1^2, 0^2, 2^2, (-2)^2, 0^2] = [4, 1, 1, 0, 4, 4, 0]\n",
        "Step 6: Calculate the sum of the squared deviations of the independent variable:\n",
        "\n",
        "Sum of squared deviations of Employee Tenure: 4 + 1 + 1 + 0 + 4 + 4 + 0 = 14\n",
        "Step 7: Calculate the product of the squared deviations of the independent variable and the dependent variable:\n",
        "\n",
        "Product of squared deviations: [4 * 0, 1 * -1, 1 * -1, 0 * 2, 4 * -2, 4 * 0, 0 * 0] = [0, -1, -1, 0, -8, 0, 0]\n",
        "Step 8: Calculate the sum of the product of the squared deviations:\n",
        "\n",
        "Sum of product of squared deviations: 0 + (-1) + (-1) + 0 + (-8) + 0 + 0 = -10\n",
        "Step 9: Calculate the slope (b):\n",
        "\n",
        "Slope (b) = Sum of product of squared deviations / Sum of squared deviations of Employee Tenure = -10 / 14 ≈ -0.714\n",
        "Step 10: Calculate the y-intercept (a):\n",
        "\n",
        "y-intercept (a) = Mean of Job Satisfaction - (Slope * Mean of Employee Tenure) = 7 - (-0.714 * 4) = 10.856\n",
        "Step 11: Formulate the regression equation:\n",
        "\n",
        "Regression equation: Job Satisfaction = y-intercept + (Slope * Employee Tenure) = 10.856 + (-0.714 * Employee Tenure)\n",
        "The linear regression equation to predict job satisfaction based on employee tenure is:\n",
        "Job Satisfaction = 10.856 - 0.714 * Employee Tenure\n",
        "\n",
        "You can use this equation to predict job satisfaction for different employee tenures."
      ],
      "metadata": {
        "id": "716RZ3UamXbA"
      }
    },
    {
      "cell_type": "markdown",
      "source": [
        "\n",
        "9. Scenario: A study is conducted to compare the effectiveness of two different medications. The recovery times of the patients in each group are as follows:\n",
        "   Medication A: [10, 12, 14, 11, 13]\n",
        "   Medication B: [15, 17, 16, 14, 18]\n",
        "   Perform an analysis of variance (ANOVA) to determine if there is a significant difference in the mean recovery times between the two medications.\n"
      ],
      "metadata": {
        "id": "bXvIKU4XmXrS"
      }
    },
    {
      "cell_type": "markdown",
      "source": [
        "To perform an analysis of variance (ANOVA) and determine if there is a significant difference in the mean recovery times between Medication A and Medication B, you can follow these steps:\n",
        "\n",
        "Step 1: Define the null hypothesis (H0) and the alternative hypothesis (Ha):\n",
        "\n",
        "Null hypothesis (H0): There is no significant difference in the mean recovery times between Medication A and Medication B.\n",
        "Alternative hypothesis (Ha): There is a significant difference in the mean recovery times between Medication A and Medication B.\n",
        "Step 2: Calculate the means of the recovery times for each medication:\n",
        "\n",
        "Mean of Medication A: (10 + 12 + 14 + 11 + 13) / 5 = 60 / 5 = 12\n",
        "Mean of Medication B: (15 + 17 + 16 + 14 + 18) / 5 = 80 / 5 = 16\n",
        "Step 3: Calculate the sum of squares between treatments (SSbetween):\n",
        "\n",
        "SSbetween = (n1 * (mean1 - overall_mean)^2) + (n2 * (mean2 - overall_mean)^2)\n",
        "= (5 * (12 - 14)^2) + (5 * (16 - 14)^2)\n",
        "= (5 * (-2)^2) + (5 * 2^2)\n",
        "= (5 * 4) + (5 * 4)\n",
        "= 20 + 20\n",
        "= 40\n",
        "Step 4: Calculate the sum of squares within treatments (SSwithin):\n",
        "\n",
        "SSwithin = (n1 - 1) * variance1 + (n2 - 1) * variance2\n",
        "= (4 * variance1) + (4 * variance2)\n",
        "= (4 * [(10 - 12)^2 + (12 - 12)^2 + (14 - 12)^2 + (11 - 12)^2 + (13 - 12)^2] / 4) + (4 * [(15 - 16)^2 + (17 - 16)^2 + (16 - 16)^2 + (14 - 16)^2 + (18 - 16)^2] / 4)\n",
        "= (4 * [(-2)^2 + 0^2 + 2^2 + (-1)^2 + 1^2]) + (4 * [(-1)^2 + 1^2 + 0^2 + (-2)^2 + 2^2])\n",
        "= (4 * [4 + 0 + 4 + 1 + 1]) + (4 * [1 + 1 + 0 + 4 + 4])\n",
        "= (4 * 10) + (4 * 10)\n",
        "= 40 + 40\n",
        "= 80\n",
        "Step 5: Calculate the mean squares between treatments (MSbetween):\n",
        "\n",
        "MSbetween = SSbetween / (number of treatments - 1)\n",
        "= 40 / (2 - 1)\n",
        "= 40 / 1\n",
        "= 40\n",
        "Step 6: Calculate the mean squares within treatments (MSwithin):\n",
        "\n",
        "MSwithin = SSwithin / (total number of observations - number of treatments)\n",
        "= 80 / (5 + 5 - 2)\n",
        "= 80 / 8\n",
        "= 10\n",
        "Step 7: Calculate the F-statistic:\n",
        "\n",
        "F-statistic = MSbetween / MSwithin\n",
        "= 40 / 10\n",
        "= 4\n",
        "Step 8: Determine the critical value and degrees of freedom:\n",
        "\n",
        "The critical value for a significance level of α = 0.05, with degrees of freedom (df1) = number of treatments - 1 = 2 - 1 = 1, and degrees of freedom (df2) = total number of observations - number of treatments = 10 - 2 = 8, is approximately F(1, 8) = 5.32.\n",
        "Step 9: Compare the F-statistic with the critical value:\n",
        "\n",
        "Since 4 is less than 5.32, it does not exceed the critical value.\n",
        "Therefore, we fail to reject the null hypothesis.\n",
        "Conclusion: Based on the ANOVA, there is no significant difference in the mean recovery times between Medication A and Medication B at a significance level of α = 0.05.\n",
        "\n",
        "\n",
        "\n",
        "\n",
        "\n",
        "User\n",
        "10. Scenario: A company wants to analyze customer feedback rating"
      ],
      "metadata": {
        "id": "F5Hu2w6ambl7"
      }
    },
    {
      "cell_type": "markdown",
      "source": [
        "10. Scenario: A company wants to analyze customer feedback ratings on a scale of 1 to 10. The data collected is\n",
        "\n",
        " as follows:\n",
        "    [8, 9, 7, 6, 8, 10, 9, 8, 7, 8]\n",
        "    Calculate the 75th percentile of the feedback ratings.\n"
      ],
      "metadata": {
        "id": "4ZC8NDbJmb0D"
      }
    },
    {
      "cell_type": "markdown",
      "source": [
        "\n",
        "To calculate the 75th percentile of the feedback ratings, you can follow these steps:\n",
        "\n",
        "Step 1: Sort the feedback ratings in ascending order: [6, 7, 7, 8, 8, 8, 8, 9, 9, 10]\n",
        "\n",
        "Step 2: Calculate the position of the 75th percentile:\n",
        "\n",
        "Formula: (75 / 100) * (n + 1)\n",
        "n = total number of data points\n",
        "In this case, n = 10\n",
        "(75 / 100) * (10 + 1) = 0.75 * 11 = 8.25\n",
        "Step 3: Identify the position in the sorted list:\n",
        "\n",
        "The position 8.25 falls between the 8th and 9th values in the sorted list: 8 and 9.\n",
        "Step 4: Interpolate to find the 75th percentile value:\n",
        "\n",
        "Formula: Lower value + (Upper value - Lower value) * Fraction\n",
        "Lower value: 8\n",
        "Upper value: 9\n",
        "Fraction: 0.25 (since 8.25 is closer to the 8th value)\n",
        "Calculations:\n",
        "\n",
        "8 + (9 - 8) * 0.25 = 8 + 1 * 0.25 = 8 + 0.25 = 8.25\n",
        "The 75th percentile of the feedback ratings is 8.25."
      ],
      "metadata": {
        "id": "VcSI6hYkmgB3"
      }
    },
    {
      "cell_type": "markdown",
      "source": [
        "11. Scenario: A quality control department wants to test the weight consistency of a product. The weights of a sample of products are as follows:\n",
        "    [10.2, 9.8, 10.0, 10.5, 10.3, 10.1]\n",
        "    Perform a hypothesis test to determine if the mean weight differs significantly from 10 grams.\n"
      ],
      "metadata": {
        "id": "e9HGIqkHm34J"
      }
    },
    {
      "cell_type": "markdown",
      "source": [
        "To perform a hypothesis test and determine if the mean weight differs significantly from 10 grams, you can follow these steps:\n",
        "\n",
        "Step 1: Define the null hypothesis (H0) and the alternative hypothesis (Ha):\n",
        "\n",
        "Null hypothesis (H0): The mean weight is equal to 10 grams.\n",
        "Alternative hypothesis (Ha): The mean weight is not equal to 10 grams.\n",
        "Step 2: Calculate the sample mean:\n",
        "\n",
        "Sample mean = (10.2 + 9.8 + 10.0 + 10.5 + 10.3 + 10.1) / 6 = 60.9 / 6 = 10.15\n",
        "Step 3: Calculate the sample standard deviation:\n",
        "\n",
        "Sample standard deviation = sqrt([(10.2 - 10.15)^2 + (9.8 - 10.15)^2 + (10.0 - 10.15)^2 + (10.5 - 10.15)^2 + (10.3 - 10.15)^2 + (10.1 - 10.15)^2] / 5)\n",
        "= sqrt([0.0225 + 0.0225 + 0.0025 + 0.0225 + 0.0225 + 0.0025] / 5)\n",
        "= sqrt(0.095 / 5)\n",
        "= sqrt(0.019)\n",
        "= 0.138\n",
        "Step 4: Calculate the test statistic (t-statistic):\n",
        "\n",
        "t-statistic = (Sample mean - Population mean) / (Sample standard deviation / sqrt(sample size))\n",
        "= (10.15 - 10) / (0.138 / sqrt(6))\n",
        "= 0.15 / (0.138 / 2.449)\n",
        "= 0.15 / 0.056\n",
        "= 2.68\n",
        "Step 5: Determine the critical value and degrees of freedom:\n",
        "\n",
        "Degrees of freedom (df) = sample size - 1 = 6 - 1 = 5\n",
        "The critical value for a two-tailed t-test with a significance level of α = 0.05 and degrees of freedom (df) = 5 is approximately ±2.571.\n",
        "Step 6: Compare the t-statistic with the critical value:\n",
        "\n",
        "Since the absolute value of 2.68 exceeds the critical value of 2.571, it falls in the critical region.\n",
        "Therefore, we reject the null hypothesis.\n",
        "Conclusion: Based on the hypothesis test, there is sufficient evidence to conclude that the mean weight differs significantly from 10 grams at a significance level of α = 0.05."
      ],
      "metadata": {
        "id": "uPWY7AsLm4vc"
      }
    },
    {
      "cell_type": "markdown",
      "source": [
        "12. Scenario: A company wants to analyze the click-through rates of two different website designs. The number of clicks for each design is as follows:\n",
        "    Design A: [100, 120, 110, 90, 95]\n",
        "    Design B: [80, 85, 90, 95, 100]\n",
        "    Perform a chi-square test to determine if there is a significant difference in the click-through rates between the two designs.\n"
      ],
      "metadata": {
        "id": "X55Zk9BYm5ia"
      }
    },
    {
      "cell_type": "markdown",
      "source": [
        "To perform a chi-square test and determine if there is a significant difference in the click-through rates between Design A and Design B, you can follow these steps:\n",
        "\n",
        "Step 1: Define the null hypothesis (H0) and the alternative hypothesis (Ha):\n",
        "\n",
        "Null hypothesis (H0): There is no significant difference in the click-through rates between Design A and Design B.\n",
        "Alternative hypothesis (Ha): There is a significant difference in the click-through rates between Design A and Design B.\n",
        "Step 2: Create a contingency table:\n",
        "Construct a contingency table that shows the observed frequencies for each design:\n",
        "\n",
        "              Design A   Design B\n",
        "--------------------------------\n",
        "Clicked           100         80\n",
        "Not Clicked       120         85\n",
        "--------------------------------\n",
        "\n",
        "Step 3: Calculate the expected frequencies:\n",
        "\n",
        "Calculate the expected frequencies assuming no difference between the designs:\n",
        "Total number of observations = sum of all frequencies = 100 + 120 + 110 + 90 + 95 + 80 + 85 + 90 + 95 + 100 = 965\n",
        "Expected frequency for each cell = (sum of row total * sum of column total) / total number of observations\n",
        "Expected frequency for \"Clicked\" in Design A = (220 * 280) / 965 = 63.3\n",
        "Expected frequency for \"Not Clicked\" in Design A = (220 * 280) / 965 = 63.3\n",
        "Expected frequency for \"Clicked\" in Design B = (280 * 280) / 965 = 81.7\n",
        "Expected frequency for \"Not Clicked\" in Design B = (280 * 280) / 965 = 81.7\n",
        "Step 4: Calculate the chi-square test statistic:\n",
        "\n",
        "Calculate the chi-square test statistic using the formula:\n",
        "Chi-square = sum((observed frequency - expected frequency)^2 / expected frequency)\n",
        "Chi-square = [(100 - 63.3)^2 / 63.3] + [(120 - 63.3)^2 / 63.3] + [(110 - 81.7)^2 / 81.7] + [(90 - 81.7)^2 / 81.7] + [(95 - 81.7)^2 / 81.7] + [(80 - 63.3)^2 / 63.3] + [(85 - 63.3)^2 / 63.3] + [(90 - 81.7)^2 / 81.7] + [(95 - 81.7)^2 / 81.7] + [(100 - 81.7)^2 / 81.7]\n",
        "Chi-square = 18.5\n",
        "Step 5: Determine the degrees of freedom:\n",
        "\n",
        "Degrees of freedom (df) = (number of rows - 1) * (number of columns - 1) = (2 - 1) * (2 - 1) = 1\n",
        "Step 6: Determine the critical value:\n",
        "\n",
        "The critical value for a chi-square test with 1 degree of freedom and a significance level of α = 0.05 is approximately 3.841.\n",
        "Step 7: Compare the chi-square test statistic with the critical value:\n",
        "\n",
        "Since 18.5 is greater than 3.841, it exceeds the critical value.\n",
        "Therefore, we reject the null hypothesis.\n",
        "Conclusion: Based on the chi-square test, there is a significant difference in the click-through rates between Design A and Design B at a significance level of α = 0.05."
      ],
      "metadata": {
        "id": "RhXQnQ7Km9BC"
      }
    },
    {
      "cell_type": "markdown",
      "source": [
        "13. Scenario: A survey is conducted to measure customer satisfaction with a product on a scale of 1 to 10. The data collected is as follows:\n",
        "    [7, 9, 6, 8, 10, 7, 8, 9, 7, 8]\n",
        "    Calculate the 95% confidence interval for the population mean satisfaction score.\n"
      ],
      "metadata": {
        "id": "JO_cT7H_m9kr"
      }
    },
    {
      "cell_type": "markdown",
      "source": [
        "To calculate the 95% confidence interval for the population mean satisfaction score, you can follow these steps:\n",
        "\n",
        "Step 1: Calculate the sample mean:\n",
        "\n",
        "Sample mean = (7 + 9 + 6 + 8 + 10 + 7 + 8 + 9 + 7 + 8) / 10 = 79 / 10 = 7.9\n",
        "Step 2: Calculate the sample standard deviation:\n",
        "\n",
        "Sample standard deviation = sqrt([(7 - 7.9)^2 + (9 - 7.9)^2 + (6 - 7.9)^2 + (8 - 7.9)^2 + (10 - 7.9)^2 + (7 - 7.9)^2 + (8 - 7.9)^2 + (9 - 7.9)^2 + (7 - 7.9)^2 + (8 - 7.9)^2] / 9)\n",
        "= sqrt([0.81 + 1.21 + 2.89 + 0.01 + 4.41 + 0.81 + 0.01 + 1.21 + 0.81 + 0.01] / 9)\n",
        "= sqrt(12.37 / 9)\n",
        "= sqrt(1.374)\n",
        "≈ 1.17\n",
        "Step 3: Determine the critical value:\n",
        "\n",
        "The critical value for a 95% confidence level with a two-tailed test is approximately 1.96.\n",
        "Step 4: Calculate the standard error:\n",
        "\n",
        "Standard error = Sample standard deviation / sqrt(sample size)\n",
        "= 1.17 / sqrt(10)\n",
        "≈ 0.37\n",
        "Step 5: Calculate the margin of error:\n",
        "\n",
        "Margin of error = Critical value * Standard error\n",
        "= 1.96 * 0.37\n",
        "≈ 0.73\n",
        "Step 6: Calculate the lower and upper bounds of the confidence interval:\n",
        "\n",
        "Lower bound = Sample mean - Margin of error\n",
        "= 7.9 - 0.73\n",
        "≈ 7.17\n",
        "Upper bound = Sample mean + Margin of error\n",
        "= 7.9 + 0.73\n",
        "≈ 8.63\n",
        "The 95% confidence interval for the population mean satisfaction score is approximately 7.17 to 8.63. This means that we are 95% confident that the true population mean satisfaction score falls within this range based on the given sample data."
      ],
      "metadata": {
        "id": "o7OuoJi6nkvU"
      }
    },
    {
      "cell_type": "markdown",
      "source": [
        "14. Scenario: A company wants to analyze the effect of temperature on product performance. The data collected is as follows:\n",
        "    Temperature (in degrees Celsius): [20, 22, 23, 19, 21]\n",
        "    Performance (on a scale of 1 to 10): [8, 7, 9, 6, 8]\n",
        "    Perform a simple linear regression to predict performance based on temperature.\n"
      ],
      "metadata": {
        "id": "xB-YR35CnlaH"
      }
    },
    {
      "cell_type": "markdown",
      "source": [
        "To perform a simple linear regression and predict performance based on temperature, you can follow these steps:\n",
        "\n",
        "Step 1: Define the variables:\n",
        "\n",
        "Independent variable (X): Temperature (in degrees Celsius)\n",
        "Dependent variable (Y): Performance (on a scale of 1 to 10)\n",
        "Step 2: Calculate the means of the variables:\n",
        "\n",
        "Mean of Temperature: (20 + 22 + 23 + 19 + 21) / 5 = 105 / 5 = 21\n",
        "Mean of Performance: (8 + 7 + 9 + 6 + 8) / 5 = 38 / 5 = 7.6\n",
        "Step 3: Calculate the deviations from the means for both variables:\n",
        "\n",
        "Deviations from the Temperature mean: [20 - 21, 22 - 21, 23 - 21, 19 - 21, 21 - 21] = [-1, 1, 2, -2, 0]\n",
        "Deviations from the Performance mean: [8 - 7.6, 7 - 7.6, 9 - 7.6, 6 - 7.6, 8 - 7.6] = [0.4, -0.6, 1.4, -1.6, 0.4]\n",
        "Step 4: Calculate the product of the deviations for each pair of data points:\n",
        "\n",
        "Product of deviations: [-1 * 0.4, 1 * -0.6, 2 * 1.4, -2 * -1.6, 0 * 0.4] = [-0.4, -0.6, 2.8, 3.2, 0]\n",
        "Step 5: Calculate the squared deviations of the independent variable:\n",
        "\n",
        "Squared deviations of Temperature: [(-1)^2, 1^2, 2^2, (-2)^2, 0^2] = [1, 1, 4, 4, 0]\n",
        "Step 6: Calculate the sum of the squared deviations of the independent variable:\n",
        "\n",
        "Sum of squared deviations of Temperature: 1 + 1 + 4 + 4 + 0 = 10\n",
        "Step 7: Calculate the sum of the product of the deviations:\n",
        "\n",
        "Sum of product of deviations: -0.4 + (-0.6) + 2.8 + 3.2 + 0 = 5\n",
        "Step 8: Calculate the slope (b):\n",
        "\n",
        "Slope (b) = Sum of product of deviations / Sum of squared deviations of Temperature = 5 / 10 = 0.5\n",
        "Step 9: Calculate the y-intercept (a):\n",
        "\n",
        "y-intercept (a) = Mean of Performance - (Slope * Mean of Temperature) = 7.6 - (0.5 * 21) = 7.6 - 10.5 = -2.9\n",
        "Step 10: Formulate the regression equation:\n",
        "\n",
        "Regression equation: Performance = y-intercept + (Slope * Temperature) = -2.9 + (0.5 * Temperature)\n",
        "The simple linear regression equation to predict performance based on temperature is:\n",
        "Performance = -2.9 + 0.5 * Temperature\n",
        "\n",
        "You can use this equation to predict the performance for different temperatures."
      ],
      "metadata": {
        "id": "EUZiFGGwn-j3"
      }
    },
    {
      "cell_type": "markdown",
      "source": [
        "15. Scenario: A study is conducted to compare the preferences of two groups of participants. The preferences are measured on a Likert scale from 1 to 5. The data collected is as follows:\n",
        "    Group A: [4, 3, 5, 2, 4]\n",
        "    Group B: [3, 2, 4, 3, 3]\n",
        "    Perform a Mann-Whitney U test to determine if there is a significant difference in the median preferences between the two groups.\n"
      ],
      "metadata": {
        "id": "p1apSVBIn-wl"
      }
    },
    {
      "cell_type": "markdown",
      "source": [
        "To perform a Mann-Whitney U test and determine if there is a significant difference in the median preferences between Group A and Group B, you can follow these steps:\n",
        "\n",
        "Step 1: Define the null hypothesis (H0) and the alternative hypothesis (Ha):\n",
        "\n",
        "Null hypothesis (H0): There is no significant difference in the median preferences between Group A and Group B.\n",
        "Alternative hypothesis (Ha): There is a significant difference in the median preferences between Group A and Group B.\n",
        "Step 2: Rank the data:\n",
        "\n",
        "Combine the preferences of both groups and rank them in ascending order:\n",
        "[2, 2, 3, 3, 3, 4, 4, 5]\n",
        "Step 3: Assign ranks to each group:\n",
        "\n",
        "Assign ranks to the preferences in each group:\n",
        "Group A: [4, 3, 5, 2, 4] -> [6, 3, 8, 1, 6]\n",
        "Group B: [3, 2, 4, 3, 3] -> [4, 2, 5, 4, 4]\n",
        "Step 4: Calculate the U statistic for Group A:\n",
        "\n",
        "U statistic for Group A = sum of ranks in Group A - (nA * (nA + 1) / 2)\n",
        "= (6 + 3 + 8 + 1 + 6) - (5 * (5 + 1) / 2)\n",
        "= 24 - (5 * 6 / 2)\n",
        "= 24 - 15\n",
        "= 9\n",
        "Step 5: Calculate the U statistic for Group B:\n",
        "\n",
        "U statistic for Group B = sum of ranks in Group B - (nB * (nB + 1) / 2)\n",
        "= (4 + 2 + 5 + 4 + 4) - (5 * (5 + 1) / 2)\n",
        "= 19 - (5 * 6 / 2)\n",
        "= 19 - 15\n",
        "= 4\n",
        "Step 6: Calculate the smaller U statistic:\n",
        "\n",
        "U statistic = min(U statistic for Group A, U statistic for Group B)\n",
        "= min(9, 4)\n",
        "= 4\n",
        "Step 7: Calculate the expected U value:\n",
        "\n",
        "Expected U value = (nA * nB) / 2 = (5 * 5) / 2 = 25 / 2 = 12.5\n",
        "Step 8: Calculate the standard deviation (SD) of U:\n",
        "\n",
        "SD of U = sqrt[(nA * nB * (nA + nB + 1)) / 12]\n",
        "= sqrt[(5 * 5 * (5 + 5 + 1)) / 12]\n",
        "= sqrt[(25 * 11) / 12]\n",
        "≈ 4.42\n",
        "Step 9: Calculate the z statistic:\n",
        "\n",
        "z statistic = (U statistic - Expected U value) / SD of U\n",
        "= (4 - 12.5) / 4.42\n",
        "≈ -1.92\n",
        "Step 10: Determine the critical value for the z statistic:\n",
        "\n",
        "For a two-tailed test with a significance level of α = 0.05, the critical value is approximately ±1.96.\n",
        "Step 11: Compare the z statistic with the critical value:\n",
        "\n",
        "Since the absolute value of -1.92 is less than 1.96, it does not exceed the critical value.\n",
        "Therefore, we fail to reject the null hypothesis.\n",
        "Conclusion: Based on the Mann-Whitney U test, there is no significant difference in the median preferences between Group A and Group B at a significance level of α = 0.05."
      ],
      "metadata": {
        "id": "Lx3NJAVDoGS8"
      }
    },
    {
      "cell_type": "markdown",
      "source": [
        "\n",
        "16. Scenario: A company wants to analyze the distribution of customer ages. The data collected is as follows:\n",
        "    [25, 30, 35, 40, 45, 50, 55, 60, 65, 70]\n",
        "    Calculate the interquartile range (IQR) of the ages.\n"
      ],
      "metadata": {
        "id": "uk6meD64oGjP"
      }
    },
    {
      "cell_type": "markdown",
      "source": [
        "To calculate the interquartile range (IQR) of the ages, you can follow these steps:\n",
        "\n",
        "Step 1: Sort the ages in ascending order: [25, 30, 35, 40, 45, 50, 55, 60, 65, 70]\n",
        "\n",
        "Step 2: Calculate the first quartile (Q1):\n",
        "\n",
        "Q1 is the median of the lower half of the data.\n",
        "Formula: (n + 1) / 4\n",
        "n = total number of data points\n",
        "In this case, n = 10\n",
        "Q1 = (10 + 1) / 4 = 2.75\n",
        "Since 2.75 is not an integer, we interpolate to find the first quartile.\n",
        "\n",
        "Lower value: 30 (3rd value in the sorted list)\n",
        "Upper value: 35 (4th value in the sorted list)\n",
        "Fraction: 0.75 (since 2.75 is closer to the 3rd value)\n",
        "Calculations:\n",
        "\n",
        "Q1 = Lower value + (Upper value - Lower value) * Fraction\n",
        "Q1 = 30 + (35 - 30) * 0.75\n",
        "Q1 = 30 + 5 * 0.75\n",
        "Q1 = 30 + 3.75\n",
        "Q1 = 33.75\n",
        "Step 3: Calculate the third quartile (Q3):\n",
        "\n",
        "Q3 is the median of the upper half of the data.\n",
        "Formula: (3 * (n + 1)) / 4\n",
        "Q3 = (3 * (10 + 1)) / 4 = 8.25\n",
        "Since 8.25 is not an integer, we interpolate to find the third quartile.\n",
        "\n",
        "Lower value: 55 (6th value in the sorted list)\n",
        "Upper value: 60 (7th value in the sorted list)\n",
        "Fraction: 0.25 (since 8.25 is closer to the 7th value)\n",
        "Calculations:\n",
        "\n",
        "Q3 = Lower value + (Upper value - Lower value) * Fraction\n",
        "Q3 = 55 + (60 - 55) * 0.25\n",
        "Q3 = 55 + 5 * 0.25\n",
        "Q3 = 55 + 1.25\n",
        "Q3 = 56.25\n",
        "Step 4: Calculate the interquartile range (IQR):\n",
        "\n",
        "IQR = Q3 - Q1\n",
        "IQR = 56.25 - 33.75\n",
        "IQR = 22.5\n",
        "The interquartile range (IQR) of the ages is 22.5."
      ],
      "metadata": {
        "id": "x122RbmeoJ8G"
      }
    },
    {
      "cell_type": "markdown",
      "source": [
        "17. Scenario: A study is conducted to compare the performance of three different machine learning algorithms. The accuracy scores for each algorithm are as follows:\n",
        "    Algorithm A: [0.85, 0.80, 0.82, 0.87, 0.83]\n",
        "    Algorithm B: [0.78, 0.82, 0.84, 0.80, 0.79]\n",
        "    Algorithm C: [0.90, 0.88, 0.89, 0.86, 0.87]\n",
        "    Perform a Kruskal-Wallis test to determine if there is a significant difference in the median accuracy scores between the algorithms.\n"
      ],
      "metadata": {
        "id": "L0OL1de-px9C"
      }
    },
    {
      "cell_type": "markdown",
      "source": [
        "To perform a Kruskal-Wallis test and determine if there is a significant difference in the median accuracy scores between Algorithm A, Algorithm B, and Algorithm C, you can follow these steps:\n",
        "\n",
        "Step 1: Define the null hypothesis (H0) and the alternative hypothesis (Ha):\n",
        "\n",
        "Null hypothesis (H0): There is no significant difference in the median accuracy scores between the algorithms.\n",
        "Alternative hypothesis (Ha): There is a significant difference in the median accuracy scores between the algorithms.\n",
        "Step 2: Combine the accuracy scores of all algorithms:\n",
        "\n",
        "Combined accuracy scores: [0.85, 0.80, 0.82, 0.87, 0.83, 0.78, 0.82, 0.84, 0.80, 0.79, 0.90, 0.88, 0.89, 0.86, 0.87]\n",
        "Step 3: Rank the combined accuracy scores:\n",
        "\n",
        "Rank the accuracy scores in ascending order: [0.78, 0.79, 0.80, 0.80, 0.82, 0.82, 0.83, 0.84, 0.85, 0.86, 0.87, 0.87, 0.88, 0.89, 0.90]\n",
        "Assign ranks to each accuracy score: [1, 2, 3, 3, 5, 5, 7, 8, 9, 10, 11, 11, 13, 14, 15]\n",
        "Step 4: Calculate the sum of ranks for each algorithm:\n",
        "\n",
        "Sum of ranks for Algorithm A: 1 + 2 + 3 + 3 + 5 = 14\n",
        "Sum of ranks for Algorithm B: 5 + 7 + 8 + 5 + 4 = 29\n",
        "Sum of ranks for Algorithm C: 9 + 13 + 11 + 10 + 11 = 54\n",
        "Step 5: Calculate the sample size (n):\n",
        "\n",
        "Sample size (n) = total number of accuracy scores = 15\n",
        "Step 6: Calculate the sum of ranks squared for each algorithm:\n",
        "\n",
        "Sum of ranks squared for Algorithm A: 14^2 = 196\n",
        "Sum of ranks squared for Algorithm B: 29^2 = 841\n",
        "Sum of ranks squared for Algorithm C: 54^2 = 2916\n",
        "Step 7: Calculate the Kruskal-Wallis test statistic (H):\n",
        "\n",
        "H = (12 / (n * (n + 1))) * (sum of ranks squared / sample size) - 3 * (n + 1)\n",
        "= (12 / (15 * (15 + 1))) * ((196 + 841 + 2916) / 15) - 3 * (15 + 1)\n",
        "= (12 / (15 * 16)) * (3953 / 15) - 3 * 16\n",
        "= (12 / 240) * (3953 / 15) - 48\n",
        "≈ 0.826\n",
        "Step 8: Determine the critical value:\n",
        "\n",
        "The critical value for a Kruskal-Wallis test with k groups (k = number of algorithms - 1) and a significance level of α = 0.05 is approximately 5.991.\n",
        "Step 9: Compare the Kruskal-Wallis test statistic with the critical value:\n",
        "\n",
        "Since 0.826 is less than 5.991, it does not exceed the critical value.\n",
        "Therefore, we fail to reject the null hypothesis.\n",
        "Conclusion: Based on the Kruskal-Wallis test, there is no significant difference in the median accuracy scores between Algorithm A, Algorithm B, and Algorithm C at a significance level of α = 0.05."
      ],
      "metadata": {
        "id": "ZMI30quQp2w8"
      }
    },
    {
      "cell_type": "markdown",
      "source": [
        "18. Scenario: A company wants to analyze the effect of price on sales. The data collected is as follows:\n",
        "    Price (in dollars): [10, 15, 12, 8, 14]\n",
        "    Sales: [100, 80, 90, 110, 95]\n",
        "    Perform a simple linear regression to predict\n",
        "\n",
        " sales based on price.\n"
      ],
      "metadata": {
        "id": "atgxesZMp3zX"
      }
    },
    {
      "cell_type": "markdown",
      "source": [
        "To perform a simple linear regression and predict sales based on price, you can follow these steps:\n",
        "\n",
        "Step 1: Define the variables:\n",
        "\n",
        "Independent variable (X): Price (in dollars)\n",
        "Dependent variable (Y): Sales\n",
        "Step 2: Calculate the means of the variables:\n",
        "\n",
        "Mean of Price: (10 + 15 + 12 + 8 + 14) / 5 = 59 / 5 = 11.8\n",
        "Mean of Sales: (100 + 80 + 90 + 110 + 95) / 5 = 475 / 5 = 95\n",
        "Step 3: Calculate the deviations from the means for both variables:\n",
        "\n",
        "Deviations from the Price mean: [10 - 11.8, 15 - 11.8, 12 - 11.8, 8 - 11.8, 14 - 11.8] = [-1.8, 3.2, 0.2, -3.8, 2.2]\n",
        "Deviations from the Sales mean: [100 - 95, 80 - 95, 90 - 95, 110 - 95, 95 - 95] = [5, -15, -5, 15, 0]\n",
        "Step 4: Calculate the product of the deviations for each pair of data points:\n",
        "\n",
        "Product of deviations: [-1.8 * 5, 3.2 * -15, 0.2 * -5, -3.8 * 15, 2.2 * 0] = [-9, -48, -1, -57, 0]\n",
        "Step 5: Calculate the squared deviations of the independent variable:\n",
        "\n",
        "Squared deviations of Price: [(-1.8)^2, 3.2^2, 0.2^2, (-3.8)^2, 2.2^2] = [3.24, 10.24, 0.04, 14.44, 4.84]\n",
        "Step 6: Calculate the sum of the squared deviations of the independent variable:\n",
        "\n",
        "Sum of squared deviations of Price: 3.24 + 10.24 + 0.04 + 14.44 + 4.84 = 32.8\n",
        "Step 7: Calculate the sum of the product of the deviations:\n",
        "\n",
        "Sum of product of deviations: -9 + (-48) + (-1) + (-57) + 0 = -115\n",
        "Step 8: Calculate the slope (b):\n",
        "\n",
        "Slope (b) = Sum of product of deviations / Sum of squared deviations of Price = -115 / 32.8 ≈ -3.51\n",
        "Step 9: Calculate the y-intercept (a):\n",
        "\n",
        "y-intercept (a) = Mean of Sales - (Slope * Mean of Price) = 95 - (-3.51 * 11.8) ≈ 95 + 41.4398 ≈ 136.44\n",
        "Step 10: Formulate the regression equation:\n",
        "\n",
        "Regression equation: Sales = y-intercept + (Slope * Price) = 136.44 - 3.51 * Price\n",
        "The simple linear regression equation to predict sales based on price is:\n",
        "Sales = 136.44 - 3.51 * Price\n",
        "\n",
        "You can use this equation to predict the sales for different prices."
      ],
      "metadata": {
        "id": "txEBZYPhqcmt"
      }
    },
    {
      "cell_type": "markdown",
      "source": [
        "19. Scenario: A survey is conducted to measure the satisfaction levels of customers with a new product. The data collected is as follows:\n",
        "    [7, 8, 9, 6, 8, 7, 9, 7, 8, 7]\n",
        "    Calculate the standard error of the mean satisfaction score.\n"
      ],
      "metadata": {
        "id": "v-Cfag2jqc1X"
      }
    },
    {
      "cell_type": "markdown",
      "source": [
        "To calculate the standard error of the mean satisfaction score, you can follow these steps:\n",
        "\n",
        "Step 1: Calculate the mean of the satisfaction scores:\n",
        "\n",
        "Mean = (7 + 8 + 9 + 6 + 8 + 7 + 9 + 7 + 8 + 7) / 10 = 76 / 10 = 7.6\n",
        "Step 2: Calculate the deviations from the mean for each satisfaction score:\n",
        "\n",
        "Deviations = [7 - 7.6, 8 - 7.6, 9 - 7.6, 6 - 7.6, 8 - 7.6, 7 - 7.6, 9 - 7.6, 7 - 7.6, 8 - 7.6, 7 - 7.6]\n",
        "= [-0.6, 0.4, 1.4, -1.6, 0.4, -0.6, 1.4, -0.6, 0.4, -0.6]\n",
        "Step 3: Calculate the squared deviations:\n",
        "\n",
        "Squared deviations = [(-0.6)^2, 0.4^2, 1.4^2, (-1.6)^2, 0.4^2, (-0.6)^2, 1.4^2, (-0.6)^2, 0.4^2, (-0.6)^2]\n",
        "= [0.36, 0.16, 1.96, 2.56, 0.16, 0.36, 1.96, 0.36, 0.16, 0.36]\n",
        "Step 4: Calculate the variance:\n",
        "\n",
        "Variance = sum of squared deviations / (sample size - 1)\n",
        "= (0.36 + 0.16 + 1.96 + 2.56 + 0.16 + 0.36 + 1.96 + 0.36 + 0.16 + 0.36) / (10 - 1)\n",
        "= 8.8 / 9\n",
        "≈ 0.9778\n",
        "Step 5: Calculate the standard error of the mean:\n",
        "\n",
        "Standard error = square root of (variance / sample size)\n",
        "= sqrt(0.9778 / 10)\n",
        "≈ sqrt(0.09778)\n",
        "≈ 0.3129\n",
        "The standard error of the mean satisfaction score is approximately 0.3129."
      ],
      "metadata": {
        "id": "Rp15JPwmqfq2"
      }
    },
    {
      "cell_type": "markdown",
      "source": [
        "20. Scenario: A company wants to analyze the relationship between advertising expenditure and sales. The data collected is as follows:\n",
        "    Advertising Expenditure (in thousands): [10, 15, 12, 8, 14]\n",
        "    Sales (in thousands): [25, 30, 28, 20, 26]\n",
        "    Perform a multiple regression analysis to predict sales based on advertising expenditure.\n",
        "\n"
      ],
      "metadata": {
        "id": "bt3IvHKaqgJk"
      }
    },
    {
      "cell_type": "markdown",
      "source": [
        "To perform a multiple regression analysis and predict sales based on advertising expenditure, you can follow these steps:\n",
        "\n",
        "Step 1: Define the variables:\n",
        "\n",
        "Independent variable (X): Advertising Expenditure (in thousands)\n",
        "Dependent variable (Y): Sales (in thousands)\n",
        "Step 2: Create a dataset with the values of X and Y:\n",
        "X = [10, 15, 12, 8, 14]\n",
        "Y = [25, 30, 28, 20, 26]\n",
        "\n",
        "Step 3: Calculate the means of X and Y:\n",
        "\n",
        "Mean of X: (10 + 15 + 12 + 8 + 14) / 5 = 59 / 5 = 11.8\n",
        "Mean of Y: (25 + 30 + 28 + 20 + 26) / 5 = 129 / 5 = 25.8\n",
        "Step 4: Calculate the deviations from the means for both variables:\n",
        "\n",
        "Deviations from the X mean: [10 - 11.8, 15 - 11.8, 12 - 11.8, 8 - 11.8, 14 - 11.8] = [-1.8, 3.2, 0.2, -3.8, 2.2]\n",
        "Deviations from the Y mean: [25 - 25.8, 30 - 25.8, 28 - 25.8, 20 - 25.8, 26 - 25.8] = [-0.8, 4.2, 2.2, -5.8, 0.2]\n",
        "Step 5: Calculate the product of the deviations for each pair of data points:\n",
        "\n",
        "Product of deviations: [-1.8 * -0.8, 3.2 * 4.2, 0.2 * 2.2, -3.8 * -5.8, 2.2 * 0.2] = [1.44, 13.44, 0.44, 22.04, 0.44]\n",
        "Step 6: Calculate the squared deviations of the independent variable:\n",
        "\n",
        "Squared deviations of X: [(-1.8)^2, 3.2^2, 0.2^2, (-3.8)^2, 2.2^2] = [3.24, 10.24, 0.04, 14.44, 4.84]\n",
        "Step 7: Calculate the sum of the squared deviations of the independent variable:\n",
        "\n",
        "Sum of squared deviations of X: 3.24 + 10.24 + 0.04 + 14.44 + 4.84 = 32.8\n",
        "Step 8: Calculate the sum of the product of the deviations:\n",
        "\n",
        "Sum of product of deviations: 1.44 + 13.44 + 0.44 + 22.04 + 0.44 = 37.8\n",
        "Step 9: Calculate the slope (b):\n",
        "\n",
        "Slope (b) = Sum of product of deviations / Sum of squared deviations of X = 37.8 / 32.8 ≈ 1.15\n",
        "Step 10: Calculate the y-intercept (a):\n",
        "\n",
        "y-intercept (a) = Mean of Y - (Slope * Mean of X) = 25.8 - (1.15 * 11.8) ≈ 25.8 - 13.57 ≈ 12.23\n",
        "Step 11: Formulate the regression equation:\n",
        "\n",
        "Regression equation: Y = y-intercept + (Slope * X) = 12.23 + (1.15 * X)\n",
        "The multiple regression equation to predict sales based on advertising expenditure is:\n",
        "Sales (Y) = 12.23 + 1.15 * Advertising Expenditure (X)\n",
        "\n",
        "You can use this equation to predict the sales for different advertising expenditure values."
      ],
      "metadata": {
        "id": "T4N11-G3tK5I"
      }
    }
  ]
}